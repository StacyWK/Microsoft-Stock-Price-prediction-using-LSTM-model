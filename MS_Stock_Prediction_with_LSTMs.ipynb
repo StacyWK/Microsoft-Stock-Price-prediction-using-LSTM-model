{
  "nbformat": 4,
  "nbformat_minor": 0,
  "metadata": {
    "colab": {
      "name": "MS Stock Prediction with LSTMs.ipynb",
      "provenance": [],
      "collapsed_sections": [],
      "include_colab_link": true
    },
    "kernelspec": {
      "name": "python3",
      "display_name": "Python 3"
    },
    "language_info": {
      "name": "python"
    }
  },
  "cells": [
    {
      "cell_type": "markdown",
      "metadata": {
        "id": "view-in-github",
        "colab_type": "text"
      },
      "source": [
        "<a href=\"https://colab.research.google.com/github/StacyWK/Microsoft-Stock-Price-prediction-using-LSTM-model/blob/main/MS_Stock_Prediction_with_LSTMs.ipynb\" target=\"_parent\"><img src=\"https://colab.research.google.com/assets/colab-badge.svg\" alt=\"Open In Colab\"/></a>"
      ]
    },
    {
      "cell_type": "code",
      "source": [
        "# dataset @ https://finance.yahoo.com/quote/MSFT/history/\n",
        "\n",
        "# If you want the exact same dataset as the YouTube video,\n",
        "# use this link: https://drive.google.com/file/d/1WLm1AEYgU28Nk4lY4zNkGPSctdImbhJI/view?usp=sharing"
      ],
      "metadata": {
        "id": "yUajF0zx2Noq"
      },
      "execution_count": null,
      "outputs": []
    },
    {
      "cell_type": "code",
      "source": [
        "#Read the MS stock dataset\n",
        "import pandas as pd\n",
        "\n",
        "df = pd.read_csv('MSFT.csv')\n",
        "\n",
        "df"
      ],
      "metadata": {
        "colab": {
          "base_uri": "https://localhost:8080/",
          "height": 424
        },
        "id": "PSIHfWL23fBi",
        "outputId": "8b7fa532-6037-414d-a50a-244ed4dab024"
      },
      "execution_count": 3,
      "outputs": [
        {
          "output_type": "execute_result",
          "data": {
            "text/plain": [
              "           Date        Open        High         Low       Close   Adj Close  \\\n",
              "0    2021-08-23  303.250000  305.399994  301.850006  304.649994  302.119720   \n",
              "1    2021-08-24  305.019989  305.649994  302.000000  302.619995  300.106598   \n",
              "2    2021-08-25  304.299988  304.589996  300.420013  302.010010  299.501678   \n",
              "3    2021-08-26  300.989990  302.429993  298.950012  299.089996  296.605896   \n",
              "4    2021-08-27  298.989990  300.869995  296.829987  299.720001  297.230652   \n",
              "..          ...         ...         ...         ...         ...         ...   \n",
              "247  2022-08-16  291.989990  294.040009  290.420013  292.709991  292.089996   \n",
              "248  2022-08-17  289.739990  293.350006  289.470001  291.320007  291.320007   \n",
              "249  2022-08-18  290.190002  291.910004  289.079987  290.170013  290.170013   \n",
              "250  2022-08-19  288.899994  289.250000  285.559998  286.149994  286.149994   \n",
              "251  2022-08-22  282.079987  282.459991  277.220001  277.750000  277.750000   \n",
              "\n",
              "       Volume  \n",
              "0    22830200  \n",
              "1    18175800  \n",
              "2    20006100  \n",
              "3    17666100  \n",
              "4    22605700  \n",
              "..        ...  \n",
              "247  18102900  \n",
              "248  18253400  \n",
              "249  17186200  \n",
              "250  20557200  \n",
              "251  25044100  \n",
              "\n",
              "[252 rows x 7 columns]"
            ],
            "text/html": [
              "\n",
              "  <div id=\"df-7e913232-dbd0-4fdd-b968-70f9cbee8d03\">\n",
              "    <div class=\"colab-df-container\">\n",
              "      <div>\n",
              "<style scoped>\n",
              "    .dataframe tbody tr th:only-of-type {\n",
              "        vertical-align: middle;\n",
              "    }\n",
              "\n",
              "    .dataframe tbody tr th {\n",
              "        vertical-align: top;\n",
              "    }\n",
              "\n",
              "    .dataframe thead th {\n",
              "        text-align: right;\n",
              "    }\n",
              "</style>\n",
              "<table border=\"1\" class=\"dataframe\">\n",
              "  <thead>\n",
              "    <tr style=\"text-align: right;\">\n",
              "      <th></th>\n",
              "      <th>Date</th>\n",
              "      <th>Open</th>\n",
              "      <th>High</th>\n",
              "      <th>Low</th>\n",
              "      <th>Close</th>\n",
              "      <th>Adj Close</th>\n",
              "      <th>Volume</th>\n",
              "    </tr>\n",
              "  </thead>\n",
              "  <tbody>\n",
              "    <tr>\n",
              "      <th>0</th>\n",
              "      <td>2021-08-23</td>\n",
              "      <td>303.250000</td>\n",
              "      <td>305.399994</td>\n",
              "      <td>301.850006</td>\n",
              "      <td>304.649994</td>\n",
              "      <td>302.119720</td>\n",
              "      <td>22830200</td>\n",
              "    </tr>\n",
              "    <tr>\n",
              "      <th>1</th>\n",
              "      <td>2021-08-24</td>\n",
              "      <td>305.019989</td>\n",
              "      <td>305.649994</td>\n",
              "      <td>302.000000</td>\n",
              "      <td>302.619995</td>\n",
              "      <td>300.106598</td>\n",
              "      <td>18175800</td>\n",
              "    </tr>\n",
              "    <tr>\n",
              "      <th>2</th>\n",
              "      <td>2021-08-25</td>\n",
              "      <td>304.299988</td>\n",
              "      <td>304.589996</td>\n",
              "      <td>300.420013</td>\n",
              "      <td>302.010010</td>\n",
              "      <td>299.501678</td>\n",
              "      <td>20006100</td>\n",
              "    </tr>\n",
              "    <tr>\n",
              "      <th>3</th>\n",
              "      <td>2021-08-26</td>\n",
              "      <td>300.989990</td>\n",
              "      <td>302.429993</td>\n",
              "      <td>298.950012</td>\n",
              "      <td>299.089996</td>\n",
              "      <td>296.605896</td>\n",
              "      <td>17666100</td>\n",
              "    </tr>\n",
              "    <tr>\n",
              "      <th>4</th>\n",
              "      <td>2021-08-27</td>\n",
              "      <td>298.989990</td>\n",
              "      <td>300.869995</td>\n",
              "      <td>296.829987</td>\n",
              "      <td>299.720001</td>\n",
              "      <td>297.230652</td>\n",
              "      <td>22605700</td>\n",
              "    </tr>\n",
              "    <tr>\n",
              "      <th>...</th>\n",
              "      <td>...</td>\n",
              "      <td>...</td>\n",
              "      <td>...</td>\n",
              "      <td>...</td>\n",
              "      <td>...</td>\n",
              "      <td>...</td>\n",
              "      <td>...</td>\n",
              "    </tr>\n",
              "    <tr>\n",
              "      <th>247</th>\n",
              "      <td>2022-08-16</td>\n",
              "      <td>291.989990</td>\n",
              "      <td>294.040009</td>\n",
              "      <td>290.420013</td>\n",
              "      <td>292.709991</td>\n",
              "      <td>292.089996</td>\n",
              "      <td>18102900</td>\n",
              "    </tr>\n",
              "    <tr>\n",
              "      <th>248</th>\n",
              "      <td>2022-08-17</td>\n",
              "      <td>289.739990</td>\n",
              "      <td>293.350006</td>\n",
              "      <td>289.470001</td>\n",
              "      <td>291.320007</td>\n",
              "      <td>291.320007</td>\n",
              "      <td>18253400</td>\n",
              "    </tr>\n",
              "    <tr>\n",
              "      <th>249</th>\n",
              "      <td>2022-08-18</td>\n",
              "      <td>290.190002</td>\n",
              "      <td>291.910004</td>\n",
              "      <td>289.079987</td>\n",
              "      <td>290.170013</td>\n",
              "      <td>290.170013</td>\n",
              "      <td>17186200</td>\n",
              "    </tr>\n",
              "    <tr>\n",
              "      <th>250</th>\n",
              "      <td>2022-08-19</td>\n",
              "      <td>288.899994</td>\n",
              "      <td>289.250000</td>\n",
              "      <td>285.559998</td>\n",
              "      <td>286.149994</td>\n",
              "      <td>286.149994</td>\n",
              "      <td>20557200</td>\n",
              "    </tr>\n",
              "    <tr>\n",
              "      <th>251</th>\n",
              "      <td>2022-08-22</td>\n",
              "      <td>282.079987</td>\n",
              "      <td>282.459991</td>\n",
              "      <td>277.220001</td>\n",
              "      <td>277.750000</td>\n",
              "      <td>277.750000</td>\n",
              "      <td>25044100</td>\n",
              "    </tr>\n",
              "  </tbody>\n",
              "</table>\n",
              "<p>252 rows × 7 columns</p>\n",
              "</div>\n",
              "      <button class=\"colab-df-convert\" onclick=\"convertToInteractive('df-7e913232-dbd0-4fdd-b968-70f9cbee8d03')\"\n",
              "              title=\"Convert this dataframe to an interactive table.\"\n",
              "              style=\"display:none;\">\n",
              "        \n",
              "  <svg xmlns=\"http://www.w3.org/2000/svg\" height=\"24px\"viewBox=\"0 0 24 24\"\n",
              "       width=\"24px\">\n",
              "    <path d=\"M0 0h24v24H0V0z\" fill=\"none\"/>\n",
              "    <path d=\"M18.56 5.44l.94 2.06.94-2.06 2.06-.94-2.06-.94-.94-2.06-.94 2.06-2.06.94zm-11 1L8.5 8.5l.94-2.06 2.06-.94-2.06-.94L8.5 2.5l-.94 2.06-2.06.94zm10 10l.94 2.06.94-2.06 2.06-.94-2.06-.94-.94-2.06-.94 2.06-2.06.94z\"/><path d=\"M17.41 7.96l-1.37-1.37c-.4-.4-.92-.59-1.43-.59-.52 0-1.04.2-1.43.59L10.3 9.45l-7.72 7.72c-.78.78-.78 2.05 0 2.83L4 21.41c.39.39.9.59 1.41.59.51 0 1.02-.2 1.41-.59l7.78-7.78 2.81-2.81c.8-.78.8-2.07 0-2.86zM5.41 20L4 18.59l7.72-7.72 1.47 1.35L5.41 20z\"/>\n",
              "  </svg>\n",
              "      </button>\n",
              "      \n",
              "  <style>\n",
              "    .colab-df-container {\n",
              "      display:flex;\n",
              "      flex-wrap:wrap;\n",
              "      gap: 12px;\n",
              "    }\n",
              "\n",
              "    .colab-df-convert {\n",
              "      background-color: #E8F0FE;\n",
              "      border: none;\n",
              "      border-radius: 50%;\n",
              "      cursor: pointer;\n",
              "      display: none;\n",
              "      fill: #1967D2;\n",
              "      height: 32px;\n",
              "      padding: 0 0 0 0;\n",
              "      width: 32px;\n",
              "    }\n",
              "\n",
              "    .colab-df-convert:hover {\n",
              "      background-color: #E2EBFA;\n",
              "      box-shadow: 0px 1px 2px rgba(60, 64, 67, 0.3), 0px 1px 3px 1px rgba(60, 64, 67, 0.15);\n",
              "      fill: #174EA6;\n",
              "    }\n",
              "\n",
              "    [theme=dark] .colab-df-convert {\n",
              "      background-color: #3B4455;\n",
              "      fill: #D2E3FC;\n",
              "    }\n",
              "\n",
              "    [theme=dark] .colab-df-convert:hover {\n",
              "      background-color: #434B5C;\n",
              "      box-shadow: 0px 1px 3px 1px rgba(0, 0, 0, 0.15);\n",
              "      filter: drop-shadow(0px 1px 2px rgba(0, 0, 0, 0.3));\n",
              "      fill: #FFFFFF;\n",
              "    }\n",
              "  </style>\n",
              "\n",
              "      <script>\n",
              "        const buttonEl =\n",
              "          document.querySelector('#df-7e913232-dbd0-4fdd-b968-70f9cbee8d03 button.colab-df-convert');\n",
              "        buttonEl.style.display =\n",
              "          google.colab.kernel.accessAllowed ? 'block' : 'none';\n",
              "\n",
              "        async function convertToInteractive(key) {\n",
              "          const element = document.querySelector('#df-7e913232-dbd0-4fdd-b968-70f9cbee8d03');\n",
              "          const dataTable =\n",
              "            await google.colab.kernel.invokeFunction('convertToInteractive',\n",
              "                                                     [key], {});\n",
              "          if (!dataTable) return;\n",
              "\n",
              "          const docLinkHtml = 'Like what you see? Visit the ' +\n",
              "            '<a target=\"_blank\" href=https://colab.research.google.com/notebooks/data_table.ipynb>data table notebook</a>'\n",
              "            + ' to learn more about interactive tables.';\n",
              "          element.innerHTML = '';\n",
              "          dataTable['output_type'] = 'display_data';\n",
              "          await google.colab.output.renderOutput(dataTable, element);\n",
              "          const docLink = document.createElement('div');\n",
              "          docLink.innerHTML = docLinkHtml;\n",
              "          element.appendChild(docLink);\n",
              "        }\n",
              "      </script>\n",
              "    </div>\n",
              "  </div>\n",
              "  "
            ]
          },
          "metadata": {},
          "execution_count": 3
        }
      ]
    },
    {
      "cell_type": "code",
      "source": [
        "#Work with only ate and close columns\n",
        "df = df[['Date', 'Close']]\n",
        "\n",
        "df"
      ],
      "metadata": {
        "colab": {
          "base_uri": "https://localhost:8080/",
          "height": 424
        },
        "id": "3I6ju2n83jGq",
        "outputId": "c8f83b73-34cc-41a2-909c-389862017e0a"
      },
      "execution_count": 4,
      "outputs": [
        {
          "output_type": "execute_result",
          "data": {
            "text/plain": [
              "           Date       Close\n",
              "0    2021-08-23  304.649994\n",
              "1    2021-08-24  302.619995\n",
              "2    2021-08-25  302.010010\n",
              "3    2021-08-26  299.089996\n",
              "4    2021-08-27  299.720001\n",
              "..          ...         ...\n",
              "247  2022-08-16  292.709991\n",
              "248  2022-08-17  291.320007\n",
              "249  2022-08-18  290.170013\n",
              "250  2022-08-19  286.149994\n",
              "251  2022-08-22  277.750000\n",
              "\n",
              "[252 rows x 2 columns]"
            ],
            "text/html": [
              "\n",
              "  <div id=\"df-35aabcaf-0819-4317-ab87-9a5c46c24fbc\">\n",
              "    <div class=\"colab-df-container\">\n",
              "      <div>\n",
              "<style scoped>\n",
              "    .dataframe tbody tr th:only-of-type {\n",
              "        vertical-align: middle;\n",
              "    }\n",
              "\n",
              "    .dataframe tbody tr th {\n",
              "        vertical-align: top;\n",
              "    }\n",
              "\n",
              "    .dataframe thead th {\n",
              "        text-align: right;\n",
              "    }\n",
              "</style>\n",
              "<table border=\"1\" class=\"dataframe\">\n",
              "  <thead>\n",
              "    <tr style=\"text-align: right;\">\n",
              "      <th></th>\n",
              "      <th>Date</th>\n",
              "      <th>Close</th>\n",
              "    </tr>\n",
              "  </thead>\n",
              "  <tbody>\n",
              "    <tr>\n",
              "      <th>0</th>\n",
              "      <td>2021-08-23</td>\n",
              "      <td>304.649994</td>\n",
              "    </tr>\n",
              "    <tr>\n",
              "      <th>1</th>\n",
              "      <td>2021-08-24</td>\n",
              "      <td>302.619995</td>\n",
              "    </tr>\n",
              "    <tr>\n",
              "      <th>2</th>\n",
              "      <td>2021-08-25</td>\n",
              "      <td>302.010010</td>\n",
              "    </tr>\n",
              "    <tr>\n",
              "      <th>3</th>\n",
              "      <td>2021-08-26</td>\n",
              "      <td>299.089996</td>\n",
              "    </tr>\n",
              "    <tr>\n",
              "      <th>4</th>\n",
              "      <td>2021-08-27</td>\n",
              "      <td>299.720001</td>\n",
              "    </tr>\n",
              "    <tr>\n",
              "      <th>...</th>\n",
              "      <td>...</td>\n",
              "      <td>...</td>\n",
              "    </tr>\n",
              "    <tr>\n",
              "      <th>247</th>\n",
              "      <td>2022-08-16</td>\n",
              "      <td>292.709991</td>\n",
              "    </tr>\n",
              "    <tr>\n",
              "      <th>248</th>\n",
              "      <td>2022-08-17</td>\n",
              "      <td>291.320007</td>\n",
              "    </tr>\n",
              "    <tr>\n",
              "      <th>249</th>\n",
              "      <td>2022-08-18</td>\n",
              "      <td>290.170013</td>\n",
              "    </tr>\n",
              "    <tr>\n",
              "      <th>250</th>\n",
              "      <td>2022-08-19</td>\n",
              "      <td>286.149994</td>\n",
              "    </tr>\n",
              "    <tr>\n",
              "      <th>251</th>\n",
              "      <td>2022-08-22</td>\n",
              "      <td>277.750000</td>\n",
              "    </tr>\n",
              "  </tbody>\n",
              "</table>\n",
              "<p>252 rows × 2 columns</p>\n",
              "</div>\n",
              "      <button class=\"colab-df-convert\" onclick=\"convertToInteractive('df-35aabcaf-0819-4317-ab87-9a5c46c24fbc')\"\n",
              "              title=\"Convert this dataframe to an interactive table.\"\n",
              "              style=\"display:none;\">\n",
              "        \n",
              "  <svg xmlns=\"http://www.w3.org/2000/svg\" height=\"24px\"viewBox=\"0 0 24 24\"\n",
              "       width=\"24px\">\n",
              "    <path d=\"M0 0h24v24H0V0z\" fill=\"none\"/>\n",
              "    <path d=\"M18.56 5.44l.94 2.06.94-2.06 2.06-.94-2.06-.94-.94-2.06-.94 2.06-2.06.94zm-11 1L8.5 8.5l.94-2.06 2.06-.94-2.06-.94L8.5 2.5l-.94 2.06-2.06.94zm10 10l.94 2.06.94-2.06 2.06-.94-2.06-.94-.94-2.06-.94 2.06-2.06.94z\"/><path d=\"M17.41 7.96l-1.37-1.37c-.4-.4-.92-.59-1.43-.59-.52 0-1.04.2-1.43.59L10.3 9.45l-7.72 7.72c-.78.78-.78 2.05 0 2.83L4 21.41c.39.39.9.59 1.41.59.51 0 1.02-.2 1.41-.59l7.78-7.78 2.81-2.81c.8-.78.8-2.07 0-2.86zM5.41 20L4 18.59l7.72-7.72 1.47 1.35L5.41 20z\"/>\n",
              "  </svg>\n",
              "      </button>\n",
              "      \n",
              "  <style>\n",
              "    .colab-df-container {\n",
              "      display:flex;\n",
              "      flex-wrap:wrap;\n",
              "      gap: 12px;\n",
              "    }\n",
              "\n",
              "    .colab-df-convert {\n",
              "      background-color: #E8F0FE;\n",
              "      border: none;\n",
              "      border-radius: 50%;\n",
              "      cursor: pointer;\n",
              "      display: none;\n",
              "      fill: #1967D2;\n",
              "      height: 32px;\n",
              "      padding: 0 0 0 0;\n",
              "      width: 32px;\n",
              "    }\n",
              "\n",
              "    .colab-df-convert:hover {\n",
              "      background-color: #E2EBFA;\n",
              "      box-shadow: 0px 1px 2px rgba(60, 64, 67, 0.3), 0px 1px 3px 1px rgba(60, 64, 67, 0.15);\n",
              "      fill: #174EA6;\n",
              "    }\n",
              "\n",
              "    [theme=dark] .colab-df-convert {\n",
              "      background-color: #3B4455;\n",
              "      fill: #D2E3FC;\n",
              "    }\n",
              "\n",
              "    [theme=dark] .colab-df-convert:hover {\n",
              "      background-color: #434B5C;\n",
              "      box-shadow: 0px 1px 3px 1px rgba(0, 0, 0, 0.15);\n",
              "      filter: drop-shadow(0px 1px 2px rgba(0, 0, 0, 0.3));\n",
              "      fill: #FFFFFF;\n",
              "    }\n",
              "  </style>\n",
              "\n",
              "      <script>\n",
              "        const buttonEl =\n",
              "          document.querySelector('#df-35aabcaf-0819-4317-ab87-9a5c46c24fbc button.colab-df-convert');\n",
              "        buttonEl.style.display =\n",
              "          google.colab.kernel.accessAllowed ? 'block' : 'none';\n",
              "\n",
              "        async function convertToInteractive(key) {\n",
              "          const element = document.querySelector('#df-35aabcaf-0819-4317-ab87-9a5c46c24fbc');\n",
              "          const dataTable =\n",
              "            await google.colab.kernel.invokeFunction('convertToInteractive',\n",
              "                                                     [key], {});\n",
              "          if (!dataTable) return;\n",
              "\n",
              "          const docLinkHtml = 'Like what you see? Visit the ' +\n",
              "            '<a target=\"_blank\" href=https://colab.research.google.com/notebooks/data_table.ipynb>data table notebook</a>'\n",
              "            + ' to learn more about interactive tables.';\n",
              "          element.innerHTML = '';\n",
              "          dataTable['output_type'] = 'display_data';\n",
              "          await google.colab.output.renderOutput(dataTable, element);\n",
              "          const docLink = document.createElement('div');\n",
              "          docLink.innerHTML = docLinkHtml;\n",
              "          element.appendChild(docLink);\n",
              "        }\n",
              "      </script>\n",
              "    </div>\n",
              "  </div>\n",
              "  "
            ]
          },
          "metadata": {},
          "execution_count": 4
        }
      ]
    },
    {
      "cell_type": "code",
      "source": [
        "#View date, and confirm it is string values\n",
        "df['Date']"
      ],
      "metadata": {
        "colab": {
          "base_uri": "https://localhost:8080/"
        },
        "id": "fCNhH5qH6Fc3",
        "outputId": "b59aa510-2a06-412e-9a47-d5e0141ccdcc"
      },
      "execution_count": 5,
      "outputs": [
        {
          "output_type": "execute_result",
          "data": {
            "text/plain": [
              "0      2021-08-23\n",
              "1      2021-08-24\n",
              "2      2021-08-25\n",
              "3      2021-08-26\n",
              "4      2021-08-27\n",
              "          ...    \n",
              "247    2022-08-16\n",
              "248    2022-08-17\n",
              "249    2022-08-18\n",
              "250    2022-08-19\n",
              "251    2022-08-22\n",
              "Name: Date, Length: 252, dtype: object"
            ]
          },
          "metadata": {},
          "execution_count": 5
        }
      ]
    },
    {
      "cell_type": "code",
      "source": [
        "#Convert date from string to datetime\n",
        "import datetime\n",
        "\n",
        "def str_to_datetime(s):\n",
        "  #s.split splits the date string along the hyphen\n",
        "  split = s.split('-') \n",
        "  year, month, day = int(split[0]), int(split[1]), int(split[2])\n",
        "  return datetime.datetime(year=year, month=month, day=day)\n",
        "\n",
        "#Testing the function\n",
        "datetime_object = str_to_datetime('1986-03-19')\n",
        "datetime_object"
      ],
      "metadata": {
        "colab": {
          "base_uri": "https://localhost:8080/"
        },
        "id": "ZtzK_Fnd6UEP",
        "outputId": "bf31ca5f-cd8b-4192-b294-eadcf57f0644"
      },
      "execution_count": 6,
      "outputs": [
        {
          "output_type": "execute_result",
          "data": {
            "text/plain": [
              "datetime.datetime(1986, 3, 19, 0, 0)"
            ]
          },
          "metadata": {},
          "execution_count": 6
        }
      ]
    },
    {
      "cell_type": "code",
      "source": [
        "df"
      ],
      "metadata": {
        "colab": {
          "base_uri": "https://localhost:8080/",
          "height": 424
        },
        "id": "fE62iBCl-d_P",
        "outputId": "9a3c5200-62f2-477d-f9e0-d8cb42a7fda4"
      },
      "execution_count": 7,
      "outputs": [
        {
          "output_type": "execute_result",
          "data": {
            "text/plain": [
              "           Date       Close\n",
              "0    2021-08-23  304.649994\n",
              "1    2021-08-24  302.619995\n",
              "2    2021-08-25  302.010010\n",
              "3    2021-08-26  299.089996\n",
              "4    2021-08-27  299.720001\n",
              "..          ...         ...\n",
              "247  2022-08-16  292.709991\n",
              "248  2022-08-17  291.320007\n",
              "249  2022-08-18  290.170013\n",
              "250  2022-08-19  286.149994\n",
              "251  2022-08-22  277.750000\n",
              "\n",
              "[252 rows x 2 columns]"
            ],
            "text/html": [
              "\n",
              "  <div id=\"df-6638f9fe-1a58-4e77-b3ea-0fc60c868a1f\">\n",
              "    <div class=\"colab-df-container\">\n",
              "      <div>\n",
              "<style scoped>\n",
              "    .dataframe tbody tr th:only-of-type {\n",
              "        vertical-align: middle;\n",
              "    }\n",
              "\n",
              "    .dataframe tbody tr th {\n",
              "        vertical-align: top;\n",
              "    }\n",
              "\n",
              "    .dataframe thead th {\n",
              "        text-align: right;\n",
              "    }\n",
              "</style>\n",
              "<table border=\"1\" class=\"dataframe\">\n",
              "  <thead>\n",
              "    <tr style=\"text-align: right;\">\n",
              "      <th></th>\n",
              "      <th>Date</th>\n",
              "      <th>Close</th>\n",
              "    </tr>\n",
              "  </thead>\n",
              "  <tbody>\n",
              "    <tr>\n",
              "      <th>0</th>\n",
              "      <td>2021-08-23</td>\n",
              "      <td>304.649994</td>\n",
              "    </tr>\n",
              "    <tr>\n",
              "      <th>1</th>\n",
              "      <td>2021-08-24</td>\n",
              "      <td>302.619995</td>\n",
              "    </tr>\n",
              "    <tr>\n",
              "      <th>2</th>\n",
              "      <td>2021-08-25</td>\n",
              "      <td>302.010010</td>\n",
              "    </tr>\n",
              "    <tr>\n",
              "      <th>3</th>\n",
              "      <td>2021-08-26</td>\n",
              "      <td>299.089996</td>\n",
              "    </tr>\n",
              "    <tr>\n",
              "      <th>4</th>\n",
              "      <td>2021-08-27</td>\n",
              "      <td>299.720001</td>\n",
              "    </tr>\n",
              "    <tr>\n",
              "      <th>...</th>\n",
              "      <td>...</td>\n",
              "      <td>...</td>\n",
              "    </tr>\n",
              "    <tr>\n",
              "      <th>247</th>\n",
              "      <td>2022-08-16</td>\n",
              "      <td>292.709991</td>\n",
              "    </tr>\n",
              "    <tr>\n",
              "      <th>248</th>\n",
              "      <td>2022-08-17</td>\n",
              "      <td>291.320007</td>\n",
              "    </tr>\n",
              "    <tr>\n",
              "      <th>249</th>\n",
              "      <td>2022-08-18</td>\n",
              "      <td>290.170013</td>\n",
              "    </tr>\n",
              "    <tr>\n",
              "      <th>250</th>\n",
              "      <td>2022-08-19</td>\n",
              "      <td>286.149994</td>\n",
              "    </tr>\n",
              "    <tr>\n",
              "      <th>251</th>\n",
              "      <td>2022-08-22</td>\n",
              "      <td>277.750000</td>\n",
              "    </tr>\n",
              "  </tbody>\n",
              "</table>\n",
              "<p>252 rows × 2 columns</p>\n",
              "</div>\n",
              "      <button class=\"colab-df-convert\" onclick=\"convertToInteractive('df-6638f9fe-1a58-4e77-b3ea-0fc60c868a1f')\"\n",
              "              title=\"Convert this dataframe to an interactive table.\"\n",
              "              style=\"display:none;\">\n",
              "        \n",
              "  <svg xmlns=\"http://www.w3.org/2000/svg\" height=\"24px\"viewBox=\"0 0 24 24\"\n",
              "       width=\"24px\">\n",
              "    <path d=\"M0 0h24v24H0V0z\" fill=\"none\"/>\n",
              "    <path d=\"M18.56 5.44l.94 2.06.94-2.06 2.06-.94-2.06-.94-.94-2.06-.94 2.06-2.06.94zm-11 1L8.5 8.5l.94-2.06 2.06-.94-2.06-.94L8.5 2.5l-.94 2.06-2.06.94zm10 10l.94 2.06.94-2.06 2.06-.94-2.06-.94-.94-2.06-.94 2.06-2.06.94z\"/><path d=\"M17.41 7.96l-1.37-1.37c-.4-.4-.92-.59-1.43-.59-.52 0-1.04.2-1.43.59L10.3 9.45l-7.72 7.72c-.78.78-.78 2.05 0 2.83L4 21.41c.39.39.9.59 1.41.59.51 0 1.02-.2 1.41-.59l7.78-7.78 2.81-2.81c.8-.78.8-2.07 0-2.86zM5.41 20L4 18.59l7.72-7.72 1.47 1.35L5.41 20z\"/>\n",
              "  </svg>\n",
              "      </button>\n",
              "      \n",
              "  <style>\n",
              "    .colab-df-container {\n",
              "      display:flex;\n",
              "      flex-wrap:wrap;\n",
              "      gap: 12px;\n",
              "    }\n",
              "\n",
              "    .colab-df-convert {\n",
              "      background-color: #E8F0FE;\n",
              "      border: none;\n",
              "      border-radius: 50%;\n",
              "      cursor: pointer;\n",
              "      display: none;\n",
              "      fill: #1967D2;\n",
              "      height: 32px;\n",
              "      padding: 0 0 0 0;\n",
              "      width: 32px;\n",
              "    }\n",
              "\n",
              "    .colab-df-convert:hover {\n",
              "      background-color: #E2EBFA;\n",
              "      box-shadow: 0px 1px 2px rgba(60, 64, 67, 0.3), 0px 1px 3px 1px rgba(60, 64, 67, 0.15);\n",
              "      fill: #174EA6;\n",
              "    }\n",
              "\n",
              "    [theme=dark] .colab-df-convert {\n",
              "      background-color: #3B4455;\n",
              "      fill: #D2E3FC;\n",
              "    }\n",
              "\n",
              "    [theme=dark] .colab-df-convert:hover {\n",
              "      background-color: #434B5C;\n",
              "      box-shadow: 0px 1px 3px 1px rgba(0, 0, 0, 0.15);\n",
              "      filter: drop-shadow(0px 1px 2px rgba(0, 0, 0, 0.3));\n",
              "      fill: #FFFFFF;\n",
              "    }\n",
              "  </style>\n",
              "\n",
              "      <script>\n",
              "        const buttonEl =\n",
              "          document.querySelector('#df-6638f9fe-1a58-4e77-b3ea-0fc60c868a1f button.colab-df-convert');\n",
              "        buttonEl.style.display =\n",
              "          google.colab.kernel.accessAllowed ? 'block' : 'none';\n",
              "\n",
              "        async function convertToInteractive(key) {\n",
              "          const element = document.querySelector('#df-6638f9fe-1a58-4e77-b3ea-0fc60c868a1f');\n",
              "          const dataTable =\n",
              "            await google.colab.kernel.invokeFunction('convertToInteractive',\n",
              "                                                     [key], {});\n",
              "          if (!dataTable) return;\n",
              "\n",
              "          const docLinkHtml = 'Like what you see? Visit the ' +\n",
              "            '<a target=\"_blank\" href=https://colab.research.google.com/notebooks/data_table.ipynb>data table notebook</a>'\n",
              "            + ' to learn more about interactive tables.';\n",
              "          element.innerHTML = '';\n",
              "          dataTable['output_type'] = 'display_data';\n",
              "          await google.colab.output.renderOutput(dataTable, element);\n",
              "          const docLink = document.createElement('div');\n",
              "          docLink.innerHTML = docLinkHtml;\n",
              "          element.appendChild(docLink);\n",
              "        }\n",
              "      </script>\n",
              "    </div>\n",
              "  </div>\n",
              "  "
            ]
          },
          "metadata": {},
          "execution_count": 7
        }
      ]
    },
    {
      "cell_type": "code",
      "source": [
        "df['Date'] = df['Date'].apply(str_to_datetime)\n",
        "df['Date']"
      ],
      "metadata": {
        "colab": {
          "base_uri": "https://localhost:8080/"
        },
        "id": "-0LJeyey_o6t",
        "outputId": "43744b21-c43d-4f39-89e6-7fff46d7169d"
      },
      "execution_count": 8,
      "outputs": [
        {
          "output_type": "stream",
          "name": "stderr",
          "text": [
            "/usr/local/lib/python3.7/dist-packages/ipykernel_launcher.py:1: SettingWithCopyWarning: \n",
            "A value is trying to be set on a copy of a slice from a DataFrame.\n",
            "Try using .loc[row_indexer,col_indexer] = value instead\n",
            "\n",
            "See the caveats in the documentation: https://pandas.pydata.org/pandas-docs/stable/user_guide/indexing.html#returning-a-view-versus-a-copy\n",
            "  \"\"\"Entry point for launching an IPython kernel.\n"
          ]
        },
        {
          "output_type": "execute_result",
          "data": {
            "text/plain": [
              "0     2021-08-23\n",
              "1     2021-08-24\n",
              "2     2021-08-25\n",
              "3     2021-08-26\n",
              "4     2021-08-27\n",
              "         ...    \n",
              "247   2022-08-16\n",
              "248   2022-08-17\n",
              "249   2022-08-18\n",
              "250   2022-08-19\n",
              "251   2022-08-22\n",
              "Name: Date, Length: 252, dtype: datetime64[ns]"
            ]
          },
          "metadata": {},
          "execution_count": 8
        }
      ]
    },
    {
      "cell_type": "code",
      "source": [
        "df.index = df.pop('Date')\n",
        "df"
      ],
      "metadata": {
        "colab": {
          "base_uri": "https://localhost:8080/",
          "height": 502
        },
        "id": "khQN7tf1BJCB",
        "outputId": "5afa3733-94a0-4640-bd20-f5160e1d943b"
      },
      "execution_count": 15,
      "outputs": [
        {
          "output_type": "error",
          "ename": "KeyError",
          "evalue": "ignored",
          "traceback": [
            "\u001b[0;31m---------------------------------------------------------------------------\u001b[0m",
            "\u001b[0;31mKeyError\u001b[0m                                  Traceback (most recent call last)",
            "\u001b[0;32m/usr/local/lib/python3.7/dist-packages/pandas/core/indexes/base.py\u001b[0m in \u001b[0;36mget_loc\u001b[0;34m(self, key, method, tolerance)\u001b[0m\n\u001b[1;32m   3360\u001b[0m             \u001b[0;32mtry\u001b[0m\u001b[0;34m:\u001b[0m\u001b[0;34m\u001b[0m\u001b[0;34m\u001b[0m\u001b[0m\n\u001b[0;32m-> 3361\u001b[0;31m                 \u001b[0;32mreturn\u001b[0m \u001b[0mself\u001b[0m\u001b[0;34m.\u001b[0m\u001b[0m_engine\u001b[0m\u001b[0;34m.\u001b[0m\u001b[0mget_loc\u001b[0m\u001b[0;34m(\u001b[0m\u001b[0mcasted_key\u001b[0m\u001b[0;34m)\u001b[0m\u001b[0;34m\u001b[0m\u001b[0;34m\u001b[0m\u001b[0m\n\u001b[0m\u001b[1;32m   3362\u001b[0m             \u001b[0;32mexcept\u001b[0m \u001b[0mKeyError\u001b[0m \u001b[0;32mas\u001b[0m \u001b[0merr\u001b[0m\u001b[0;34m:\u001b[0m\u001b[0;34m\u001b[0m\u001b[0;34m\u001b[0m\u001b[0m\n",
            "\u001b[0;32m/usr/local/lib/python3.7/dist-packages/pandas/_libs/index.pyx\u001b[0m in \u001b[0;36mpandas._libs.index.IndexEngine.get_loc\u001b[0;34m()\u001b[0m\n",
            "\u001b[0;32m/usr/local/lib/python3.7/dist-packages/pandas/_libs/index.pyx\u001b[0m in \u001b[0;36mpandas._libs.index.IndexEngine.get_loc\u001b[0;34m()\u001b[0m\n",
            "\u001b[0;32mpandas/_libs/hashtable_class_helper.pxi\u001b[0m in \u001b[0;36mpandas._libs.hashtable.PyObjectHashTable.get_item\u001b[0;34m()\u001b[0m\n",
            "\u001b[0;32mpandas/_libs/hashtable_class_helper.pxi\u001b[0m in \u001b[0;36mpandas._libs.hashtable.PyObjectHashTable.get_item\u001b[0;34m()\u001b[0m\n",
            "\u001b[0;31mKeyError\u001b[0m: 'Date'",
            "\nThe above exception was the direct cause of the following exception:\n",
            "\u001b[0;31mKeyError\u001b[0m                                  Traceback (most recent call last)",
            "\u001b[0;32m<ipython-input-15-9d5c671951ae>\u001b[0m in \u001b[0;36m<module>\u001b[0;34m\u001b[0m\n\u001b[0;32m----> 1\u001b[0;31m \u001b[0mdf\u001b[0m\u001b[0;34m.\u001b[0m\u001b[0mindex\u001b[0m \u001b[0;34m=\u001b[0m \u001b[0mdf\u001b[0m\u001b[0;34m.\u001b[0m\u001b[0mpop\u001b[0m\u001b[0;34m(\u001b[0m\u001b[0;34m'Date'\u001b[0m\u001b[0;34m)\u001b[0m\u001b[0;34m\u001b[0m\u001b[0;34m\u001b[0m\u001b[0m\n\u001b[0m\u001b[1;32m      2\u001b[0m \u001b[0mdf\u001b[0m\u001b[0;34m\u001b[0m\u001b[0;34m\u001b[0m\u001b[0m\n",
            "\u001b[0;32m/usr/local/lib/python3.7/dist-packages/pandas/core/frame.py\u001b[0m in \u001b[0;36mpop\u001b[0;34m(self, item)\u001b[0m\n\u001b[1;32m   5224\u001b[0m         \u001b[0;36m3\u001b[0m  \u001b[0mmonkey\u001b[0m        \u001b[0mNaN\u001b[0m\u001b[0;34m\u001b[0m\u001b[0;34m\u001b[0m\u001b[0m\n\u001b[1;32m   5225\u001b[0m         \"\"\"\n\u001b[0;32m-> 5226\u001b[0;31m         \u001b[0;32mreturn\u001b[0m \u001b[0msuper\u001b[0m\u001b[0;34m(\u001b[0m\u001b[0;34m)\u001b[0m\u001b[0;34m.\u001b[0m\u001b[0mpop\u001b[0m\u001b[0;34m(\u001b[0m\u001b[0mitem\u001b[0m\u001b[0;34m=\u001b[0m\u001b[0mitem\u001b[0m\u001b[0;34m)\u001b[0m\u001b[0;34m\u001b[0m\u001b[0;34m\u001b[0m\u001b[0m\n\u001b[0m\u001b[1;32m   5227\u001b[0m \u001b[0;34m\u001b[0m\u001b[0m\n\u001b[1;32m   5228\u001b[0m     \u001b[0;34m@\u001b[0m\u001b[0mdoc\u001b[0m\u001b[0;34m(\u001b[0m\u001b[0mNDFrame\u001b[0m\u001b[0;34m.\u001b[0m\u001b[0mreplace\u001b[0m\u001b[0;34m,\u001b[0m \u001b[0;34m**\u001b[0m\u001b[0m_shared_doc_kwargs\u001b[0m\u001b[0;34m)\u001b[0m\u001b[0;34m\u001b[0m\u001b[0;34m\u001b[0m\u001b[0m\n",
            "\u001b[0;32m/usr/local/lib/python3.7/dist-packages/pandas/core/generic.py\u001b[0m in \u001b[0;36mpop\u001b[0;34m(self, item)\u001b[0m\n\u001b[1;32m    868\u001b[0m \u001b[0;34m\u001b[0m\u001b[0m\n\u001b[1;32m    869\u001b[0m     \u001b[0;32mdef\u001b[0m \u001b[0mpop\u001b[0m\u001b[0;34m(\u001b[0m\u001b[0mself\u001b[0m\u001b[0;34m,\u001b[0m \u001b[0mitem\u001b[0m\u001b[0;34m:\u001b[0m \u001b[0mHashable\u001b[0m\u001b[0;34m)\u001b[0m \u001b[0;34m->\u001b[0m \u001b[0mSeries\u001b[0m \u001b[0;34m|\u001b[0m \u001b[0mAny\u001b[0m\u001b[0;34m:\u001b[0m\u001b[0;34m\u001b[0m\u001b[0;34m\u001b[0m\u001b[0m\n\u001b[0;32m--> 870\u001b[0;31m         \u001b[0mresult\u001b[0m \u001b[0;34m=\u001b[0m \u001b[0mself\u001b[0m\u001b[0;34m[\u001b[0m\u001b[0mitem\u001b[0m\u001b[0;34m]\u001b[0m\u001b[0;34m\u001b[0m\u001b[0;34m\u001b[0m\u001b[0m\n\u001b[0m\u001b[1;32m    871\u001b[0m         \u001b[0;32mdel\u001b[0m \u001b[0mself\u001b[0m\u001b[0;34m[\u001b[0m\u001b[0mitem\u001b[0m\u001b[0;34m]\u001b[0m\u001b[0;34m\u001b[0m\u001b[0;34m\u001b[0m\u001b[0m\n\u001b[1;32m    872\u001b[0m \u001b[0;34m\u001b[0m\u001b[0m\n",
            "\u001b[0;32m/usr/local/lib/python3.7/dist-packages/pandas/core/frame.py\u001b[0m in \u001b[0;36m__getitem__\u001b[0;34m(self, key)\u001b[0m\n\u001b[1;32m   3456\u001b[0m             \u001b[0;32mif\u001b[0m \u001b[0mself\u001b[0m\u001b[0;34m.\u001b[0m\u001b[0mcolumns\u001b[0m\u001b[0;34m.\u001b[0m\u001b[0mnlevels\u001b[0m \u001b[0;34m>\u001b[0m \u001b[0;36m1\u001b[0m\u001b[0;34m:\u001b[0m\u001b[0;34m\u001b[0m\u001b[0;34m\u001b[0m\u001b[0m\n\u001b[1;32m   3457\u001b[0m                 \u001b[0;32mreturn\u001b[0m \u001b[0mself\u001b[0m\u001b[0;34m.\u001b[0m\u001b[0m_getitem_multilevel\u001b[0m\u001b[0;34m(\u001b[0m\u001b[0mkey\u001b[0m\u001b[0;34m)\u001b[0m\u001b[0;34m\u001b[0m\u001b[0;34m\u001b[0m\u001b[0m\n\u001b[0;32m-> 3458\u001b[0;31m             \u001b[0mindexer\u001b[0m \u001b[0;34m=\u001b[0m \u001b[0mself\u001b[0m\u001b[0;34m.\u001b[0m\u001b[0mcolumns\u001b[0m\u001b[0;34m.\u001b[0m\u001b[0mget_loc\u001b[0m\u001b[0;34m(\u001b[0m\u001b[0mkey\u001b[0m\u001b[0;34m)\u001b[0m\u001b[0;34m\u001b[0m\u001b[0;34m\u001b[0m\u001b[0m\n\u001b[0m\u001b[1;32m   3459\u001b[0m             \u001b[0;32mif\u001b[0m \u001b[0mis_integer\u001b[0m\u001b[0;34m(\u001b[0m\u001b[0mindexer\u001b[0m\u001b[0;34m)\u001b[0m\u001b[0;34m:\u001b[0m\u001b[0;34m\u001b[0m\u001b[0;34m\u001b[0m\u001b[0m\n\u001b[1;32m   3460\u001b[0m                 \u001b[0mindexer\u001b[0m \u001b[0;34m=\u001b[0m \u001b[0;34m[\u001b[0m\u001b[0mindexer\u001b[0m\u001b[0;34m]\u001b[0m\u001b[0;34m\u001b[0m\u001b[0;34m\u001b[0m\u001b[0m\n",
            "\u001b[0;32m/usr/local/lib/python3.7/dist-packages/pandas/core/indexes/base.py\u001b[0m in \u001b[0;36mget_loc\u001b[0;34m(self, key, method, tolerance)\u001b[0m\n\u001b[1;32m   3361\u001b[0m                 \u001b[0;32mreturn\u001b[0m \u001b[0mself\u001b[0m\u001b[0;34m.\u001b[0m\u001b[0m_engine\u001b[0m\u001b[0;34m.\u001b[0m\u001b[0mget_loc\u001b[0m\u001b[0;34m(\u001b[0m\u001b[0mcasted_key\u001b[0m\u001b[0;34m)\u001b[0m\u001b[0;34m\u001b[0m\u001b[0;34m\u001b[0m\u001b[0m\n\u001b[1;32m   3362\u001b[0m             \u001b[0;32mexcept\u001b[0m \u001b[0mKeyError\u001b[0m \u001b[0;32mas\u001b[0m \u001b[0merr\u001b[0m\u001b[0;34m:\u001b[0m\u001b[0;34m\u001b[0m\u001b[0;34m\u001b[0m\u001b[0m\n\u001b[0;32m-> 3363\u001b[0;31m                 \u001b[0;32mraise\u001b[0m \u001b[0mKeyError\u001b[0m\u001b[0;34m(\u001b[0m\u001b[0mkey\u001b[0m\u001b[0;34m)\u001b[0m \u001b[0;32mfrom\u001b[0m \u001b[0merr\u001b[0m\u001b[0;34m\u001b[0m\u001b[0;34m\u001b[0m\u001b[0m\n\u001b[0m\u001b[1;32m   3364\u001b[0m \u001b[0;34m\u001b[0m\u001b[0m\n\u001b[1;32m   3365\u001b[0m         \u001b[0;32mif\u001b[0m \u001b[0mis_scalar\u001b[0m\u001b[0;34m(\u001b[0m\u001b[0mkey\u001b[0m\u001b[0;34m)\u001b[0m \u001b[0;32mand\u001b[0m \u001b[0misna\u001b[0m\u001b[0;34m(\u001b[0m\u001b[0mkey\u001b[0m\u001b[0;34m)\u001b[0m \u001b[0;32mand\u001b[0m \u001b[0;32mnot\u001b[0m \u001b[0mself\u001b[0m\u001b[0;34m.\u001b[0m\u001b[0mhasnans\u001b[0m\u001b[0;34m:\u001b[0m\u001b[0;34m\u001b[0m\u001b[0;34m\u001b[0m\u001b[0m\n",
            "\u001b[0;31mKeyError\u001b[0m: 'Date'"
          ]
        }
      ]
    },
    {
      "cell_type": "code",
      "source": [
        "import matplotlib.pyplot as plt\n",
        "\n",
        "plt.plot(df.index, df['Close'])"
      ],
      "metadata": {
        "colab": {
          "base_uri": "https://localhost:8080/",
          "height": 282
        },
        "id": "17OZExfcBWzD",
        "outputId": "2f309ae6-b15a-47ef-8874-6c8a7d1c1b92"
      },
      "execution_count": 10,
      "outputs": [
        {
          "output_type": "execute_result",
          "data": {
            "text/plain": [
              "[<matplotlib.lines.Line2D at 0x7f46f5fa1bd0>]"
            ]
          },
          "metadata": {},
          "execution_count": 10
        },
        {
          "output_type": "display_data",
          "data": {
            "text/plain": [
              "<Figure size 432x288 with 1 Axes>"
            ],
            "image/png": "[encoded data removed]"
          },
          "metadata": {
            "needs_background": "light"
          }
        }
      ]
    },
    {
      "cell_type": "code",
      "source": [
        "df.tail"
      ],
      "metadata": {
        "colab": {
          "base_uri": "https://localhost:8080/"
        },
        "id": "gn99eA3YY_mb",
        "outputId": "ee43f0dc-b308-4463-9d4b-eb056d258214"
      },
      "execution_count": 16,
      "outputs": [
        {
          "output_type": "execute_result",
          "data": {
            "text/plain": [
              "<bound method NDFrame.tail of                  Close\n",
              "Date                  \n",
              "2021-08-23  304.649994\n",
              "2021-08-24  302.619995\n",
              "2021-08-25  302.010010\n",
              "2021-08-26  299.089996\n",
              "2021-08-27  299.720001\n",
              "...                ...\n",
              "2022-08-16  292.709991\n",
              "2022-08-17  291.320007\n",
              "2022-08-18  290.170013\n",
              "2022-08-19  286.149994\n",
              "2022-08-22  277.750000\n",
              "\n",
              "[252 rows x 1 columns]>"
            ]
          },
          "metadata": {},
          "execution_count": 16
        }
      ]
    },
    {
      "cell_type": "code",
      "source": [
        "#In order to use lstm model, the function below converts the problem into a supervised problem\n",
        "import numpy as np\n",
        "\n",
        "#n = 3 means 3 targets, ie if current date is 2021-08-26, target 3 is the stock price of 3 stock days from the current date\n",
        "def df_to_windowed_df(dataframe, first_date_str, last_date_str, n=3):\n",
        "  first_date = str_to_datetime(first_date_str)\n",
        "  last_date  = str_to_datetime(last_date_str)\n",
        "\n",
        "  target_date = first_date\n",
        "  \n",
        "  dates = []\n",
        "  X, Y = [], []\n",
        "\n",
        "  last_time = False\n",
        "  while True:\n",
        "    df_subset = dataframe.loc[:target_date].tail(n+1)\n",
        "    \n",
        "    if len(df_subset) != n+1:\n",
        "      print(f'Error: Window of size {n} is too large for date {target_date}')\n",
        "      return\n",
        "\n",
        "    values = df_subset['Close'].to_numpy()\n",
        "    x, y = values[:-1], values[-1]\n",
        "\n",
        "    dates.append(target_date)\n",
        "    X.append(x)\n",
        "    Y.append(y)\n",
        "\n",
        "    next_week = dataframe.loc[target_date:target_date+datetime.timedelta(days=7)]\n",
        "    next_datetime_str = str(next_week.head(2).tail(1).index.values[0])\n",
        "    next_date_str = next_datetime_str.split('T')[0]\n",
        "    year_month_day = next_date_str.split('-')\n",
        "    year, month, day = year_month_day\n",
        "    next_date = datetime.datetime(day=int(day), month=int(month), year=int(year))\n",
        "    \n",
        "    if last_time:\n",
        "      break\n",
        "    \n",
        "    target_date = next_date\n",
        "\n",
        "    if target_date == last_date:\n",
        "      last_time = True\n",
        "    \n",
        "  ret_df = pd.DataFrame({})\n",
        "  ret_df['Target Date'] = dates\n",
        "  \n",
        "  X = np.array(X)\n",
        "  for i in range(0, n):\n",
        "    X[:, i]\n",
        "    ret_df[f'Target-{n-i}'] = X[:, i]\n",
        "  \n",
        "  ret_df['Target'] = Y\n",
        "\n",
        "  return ret_df\n",
        "\n",
        "# Start day second time around: '2021-08-26' to '2022-08-22', '2021-08-26' is the 4th date since we can't start with the 1st date because of the 3 required targets\n",
        "windowed_df = df_to_windowed_df(df, \n",
        "                                '2021-08-26', \n",
        "                                '2022-08-22' , \n",
        "                                n=3)\n",
        "windowed_df\n",
        "#Target 1-3 are feed into model and the target is the expected output (Target is the actual closing price for the current date)\n",
        "#Below is the converted supervised problem"
      ],
      "metadata": {
        "colab": {
          "base_uri": "https://localhost:8080/",
          "height": 424
        },
        "id": "fsU9d3u0HdYj",
        "outputId": "3986cead-e11a-4384-aa7e-d7d3fc812e7c"
      },
      "execution_count": 18,
      "outputs": [
        {
          "output_type": "execute_result",
          "data": {
            "text/plain": [
              "    Target Date    Target-3    Target-2    Target-1      Target\n",
              "0    2021-08-26  304.649994  302.619995  302.010010  299.089996\n",
              "1    2021-08-27  302.619995  302.010010  299.089996  299.720001\n",
              "2    2021-08-30  302.010010  299.089996  299.720001  303.589996\n",
              "3    2021-08-31  299.089996  299.720001  303.589996  301.880005\n",
              "4    2021-09-01  299.720001  303.589996  301.880005  301.829987\n",
              "..          ...         ...         ...         ...         ...\n",
              "244  2022-08-16  287.019989  291.910004  293.470001  292.709991\n",
              "245  2022-08-17  291.910004  293.470001  292.709991  291.320007\n",
              "246  2022-08-18  293.470001  292.709991  291.320007  290.170013\n",
              "247  2022-08-19  292.709991  291.320007  290.170013  286.149994\n",
              "248  2022-08-22  291.320007  290.170013  286.149994  277.750000\n",
              "\n",
              "[249 rows x 5 columns]"
            ],
            "text/html": [
              "\n",
              "  <div id=\"df-50c0ae71-da04-4fc7-889a-22088a061ce5\">\n",
              "    <div class=\"colab-df-container\">\n",
              "      <div>\n",
              "<style scoped>\n",
              "    .dataframe tbody tr th:only-of-type {\n",
              "        vertical-align: middle;\n",
              "    }\n",
              "\n",
              "    .dataframe tbody tr th {\n",
              "        vertical-align: top;\n",
              "    }\n",
              "\n",
              "    .dataframe thead th {\n",
              "        text-align: right;\n",
              "    }\n",
              "</style>\n",
              "<table border=\"1\" class=\"dataframe\">\n",
              "  <thead>\n",
              "    <tr style=\"text-align: right;\">\n",
              "      <th></th>\n",
              "      <th>Target Date</th>\n",
              "      <th>Target-3</th>\n",
              "      <th>Target-2</th>\n",
              "      <th>Target-1</th>\n",
              "      <th>Target</th>\n",
              "    </tr>\n",
              "  </thead>\n",
              "  <tbody>\n",
              "    <tr>\n",
              "      <th>0</th>\n",
              "      <td>2021-08-26</td>\n",
              "      <td>304.649994</td>\n",
              "      <td>302.619995</td>\n",
              "      <td>302.010010</td>\n",
              "      <td>299.089996</td>\n",
              "    </tr>\n",
              "    <tr>\n",
              "      <th>1</th>\n",
              "      <td>2021-08-27</td>\n",
              "      <td>302.619995</td>\n",
              "      <td>302.010010</td>\n",
              "      <td>299.089996</td>\n",
              "      <td>299.720001</td>\n",
              "    </tr>\n",
              "    <tr>\n",
              "      <th>2</th>\n",
              "      <td>2021-08-30</td>\n",
              "      <td>302.010010</td>\n",
              "      <td>299.089996</td>\n",
              "      <td>299.720001</td>\n",
              "      <td>303.589996</td>\n",
              "    </tr>\n",
              "    <tr>\n",
              "      <th>3</th>\n",
              "      <td>2021-08-31</td>\n",
              "      <td>299.089996</td>\n",
              "      <td>299.720001</td>\n",
              "      <td>303.589996</td>\n",
              "      <td>301.880005</td>\n",
              "    </tr>\n",
              "    <tr>\n",
              "      <th>4</th>\n",
              "      <td>2021-09-01</td>\n",
              "      <td>299.720001</td>\n",
              "      <td>303.589996</td>\n",
              "      <td>301.880005</td>\n",
              "      <td>301.829987</td>\n",
              "    </tr>\n",
              "    <tr>\n",
              "      <th>...</th>\n",
              "      <td>...</td>\n",
              "      <td>...</td>\n",
              "      <td>...</td>\n",
              "      <td>...</td>\n",
              "      <td>...</td>\n",
              "    </tr>\n",
              "    <tr>\n",
              "      <th>244</th>\n",
              "      <td>2022-08-16</td>\n",
              "      <td>287.019989</td>\n",
              "      <td>291.910004</td>\n",
              "      <td>293.470001</td>\n",
              "      <td>292.709991</td>\n",
              "    </tr>\n",
              "    <tr>\n",
              "      <th>245</th>\n",
              "      <td>2022-08-17</td>\n",
              "      <td>291.910004</td>\n",
              "      <td>293.470001</td>\n",
              "      <td>292.709991</td>\n",
              "      <td>291.320007</td>\n",
              "    </tr>\n",
              "    <tr>\n",
              "      <th>246</th>\n",
              "      <td>2022-08-18</td>\n",
              "      <td>293.470001</td>\n",
              "      <td>292.709991</td>\n",
              "      <td>291.320007</td>\n",
              "      <td>290.170013</td>\n",
              "    </tr>\n",
              "    <tr>\n",
              "      <th>247</th>\n",
              "      <td>2022-08-19</td>\n",
              "      <td>292.709991</td>\n",
              "      <td>291.320007</td>\n",
              "      <td>290.170013</td>\n",
              "      <td>286.149994</td>\n",
              "    </tr>\n",
              "    <tr>\n",
              "      <th>248</th>\n",
              "      <td>2022-08-22</td>\n",
              "      <td>291.320007</td>\n",
              "      <td>290.170013</td>\n",
              "      <td>286.149994</td>\n",
              "      <td>277.750000</td>\n",
              "    </tr>\n",
              "  </tbody>\n",
              "</table>\n",
              "<p>249 rows × 5 columns</p>\n",
              "</div>\n",
              "      <button class=\"colab-df-convert\" onclick=\"convertToInteractive('df-50c0ae71-da04-4fc7-889a-22088a061ce5')\"\n",
              "              title=\"Convert this dataframe to an interactive table.\"\n",
              "              style=\"display:none;\">\n",
              "        \n",
              "  <svg xmlns=\"http://www.w3.org/2000/svg\" height=\"24px\"viewBox=\"0 0 24 24\"\n",
              "       width=\"24px\">\n",
              "    <path d=\"M0 0h24v24H0V0z\" fill=\"none\"/>\n",
              "    <path d=\"M18.56 5.44l.94 2.06.94-2.06 2.06-.94-2.06-.94-.94-2.06-.94 2.06-2.06.94zm-11 1L8.5 8.5l.94-2.06 2.06-.94-2.06-.94L8.5 2.5l-.94 2.06-2.06.94zm10 10l.94 2.06.94-2.06 2.06-.94-2.06-.94-.94-2.06-.94 2.06-2.06.94z\"/><path d=\"M17.41 7.96l-1.37-1.37c-.4-.4-.92-.59-1.43-.59-.52 0-1.04.2-1.43.59L10.3 9.45l-7.72 7.72c-.78.78-.78 2.05 0 2.83L4 21.41c.39.39.9.59 1.41.59.51 0 1.02-.2 1.41-.59l7.78-7.78 2.81-2.81c.8-.78.8-2.07 0-2.86zM5.41 20L4 18.59l7.72-7.72 1.47 1.35L5.41 20z\"/>\n",
              "  </svg>\n",
              "      </button>\n",
              "      \n",
              "  <style>\n",
              "    .colab-df-container {\n",
              "      display:flex;\n",
              "      flex-wrap:wrap;\n",
              "      gap: 12px;\n",
              "    }\n",
              "\n",
              "    .colab-df-convert {\n",
              "      background-color: #E8F0FE;\n",
              "      border: none;\n",
              "      border-radius: 50%;\n",
              "      cursor: pointer;\n",
              "      display: none;\n",
              "      fill: #1967D2;\n",
              "      height: 32px;\n",
              "      padding: 0 0 0 0;\n",
              "      width: 32px;\n",
              "    }\n",
              "\n",
              "    .colab-df-convert:hover {\n",
              "      background-color: #E2EBFA;\n",
              "      box-shadow: 0px 1px 2px rgba(60, 64, 67, 0.3), 0px 1px 3px 1px rgba(60, 64, 67, 0.15);\n",
              "      fill: #174EA6;\n",
              "    }\n",
              "\n",
              "    [theme=dark] .colab-df-convert {\n",
              "      background-color: #3B4455;\n",
              "      fill: #D2E3FC;\n",
              "    }\n",
              "\n",
              "    [theme=dark] .colab-df-convert:hover {\n",
              "      background-color: #434B5C;\n",
              "      box-shadow: 0px 1px 3px 1px rgba(0, 0, 0, 0.15);\n",
              "      filter: drop-shadow(0px 1px 2px rgba(0, 0, 0, 0.3));\n",
              "      fill: #FFFFFF;\n",
              "    }\n",
              "  </style>\n",
              "\n",
              "      <script>\n",
              "        const buttonEl =\n",
              "          document.querySelector('#df-50c0ae71-da04-4fc7-889a-22088a061ce5 button.colab-df-convert');\n",
              "        buttonEl.style.display =\n",
              "          google.colab.kernel.accessAllowed ? 'block' : 'none';\n",
              "\n",
              "        async function convertToInteractive(key) {\n",
              "          const element = document.querySelector('#df-50c0ae71-da04-4fc7-889a-22088a061ce5');\n",
              "          const dataTable =\n",
              "            await google.colab.kernel.invokeFunction('convertToInteractive',\n",
              "                                                     [key], {});\n",
              "          if (!dataTable) return;\n",
              "\n",
              "          const docLinkHtml = 'Like what you see? Visit the ' +\n",
              "            '<a target=\"_blank\" href=https://colab.research.google.com/notebooks/data_table.ipynb>data table notebook</a>'\n",
              "            + ' to learn more about interactive tables.';\n",
              "          element.innerHTML = '';\n",
              "          dataTable['output_type'] = 'display_data';\n",
              "          await google.colab.output.renderOutput(dataTable, element);\n",
              "          const docLink = document.createElement('div');\n",
              "          docLink.innerHTML = docLinkHtml;\n",
              "          element.appendChild(docLink);\n",
              "        }\n",
              "      </script>\n",
              "    </div>\n",
              "  </div>\n",
              "  "
            ]
          },
          "metadata": {},
          "execution_count": 18
        }
      ]
    },
    {
      "cell_type": "code",
      "source": [
        "#Converting to numpy arrays so as to feed directly to tensorflow model using the function below\n",
        "#Windowed_df from above is converted into date, X (3D matrix with the 3 targets) y(the output factor, ie the target)\n",
        "def windowed_df_to_date_X_y(windowed_dataframe):\n",
        "  df_as_np = windowed_dataframe.to_numpy()\n",
        "\n",
        "  #Get dates, : means get all rows, 0 means just the first column\n",
        "  dates = df_as_np[:, 0]\n",
        "\n",
        "  #Get nput matrix, : means get all rows, 1:-1 means starting at second column until but not including the last column\n",
        "  middle_matrix = df_as_np[:, 1:-1]\n",
        "  #Reshape 3D model, len(dates) - the first dimension, ie, observation, middle_matrix.shape[1]- equal to n value, no of columns, 1 - no of variables being used, ie, just closing price but checking how it changes over time (time series - univariate forecasting)\n",
        "  X = middle_matrix.reshape((len(dates), middle_matrix.shape[1], 1))\n",
        "\n",
        "  #Get dates, : means get all rows, -1 means just the last column\n",
        "  Y = df_as_np[:, -1]\n",
        "\n",
        "  return dates, X.astype(np.float32), Y.astype(np.float32)\n",
        "\n",
        "#call function\n",
        "dates, X, y = windowed_df_to_date_X_y(windowed_df)\n",
        "\n",
        "dates.shape, X.shape, y.shape"
      ],
      "metadata": {
        "colab": {
          "base_uri": "https://localhost:8080/"
        },
        "id": "uD17zIbaIZ6n",
        "outputId": "43dcc857-c5f1-413e-dc23-c8f628fe8866"
      },
      "execution_count": 19,
      "outputs": [
        {
          "output_type": "execute_result",
          "data": {
            "text/plain": [
              "((249,), (249, 3, 1), (249,))"
            ]
          },
          "metadata": {},
          "execution_count": 19
        }
      ]
    },
    {
      "cell_type": "code",
      "source": [
        "q_80 = int(len(dates) * .8)\n",
        "q_90 = int(len(dates) * .9)\n",
        "\n",
        "#Use 80% to train model\n",
        "dates_train, X_train, y_train = dates[:q_80], X[:q_80], y[:q_80]\n",
        "\n",
        "#Use values between 80% and 90% to validate model\n",
        "dates_val, X_val, y_val = dates[q_80:q_90], X[q_80:q_90], y[q_80:q_90]\n",
        "\n",
        "#Use values from 90% to 100% to test model\n",
        "dates_test, X_test, y_test = dates[q_90:], X[q_90:], y[q_90:]\n",
        "\n",
        "plt.plot(dates_train, y_train)\n",
        "plt.plot(dates_val, y_val)\n",
        "plt.plot(dates_test, y_test)\n",
        "\n",
        "plt.legend(['Train', 'Validation', 'Test'])"
      ],
      "metadata": {
        "colab": {
          "base_uri": "https://localhost:8080/",
          "height": 282
        },
        "id": "LPHWfwZeMZSS",
        "outputId": "91e07565-b6e0-4a8d-8140-cb8a0725536c"
      },
      "execution_count": 20,
      "outputs": [
        {
          "output_type": "execute_result",
          "data": {
            "text/plain": [
              "<matplotlib.legend.Legend at 0x7f46f4d1df50>"
            ]
          },
          "metadata": {},
          "execution_count": 20
        },
        {
          "output_type": "display_data",
          "data": {
            "text/plain": [
              "<Figure size 432x288 with 1 Axes>"
            ],
            "image/png": "[encoded data removed]"
          },
          "metadata": {
            "needs_background": "light"
          }
        }
      ]
    },
    {
      "cell_type": "code",
      "source": [
        "#Train and validate model\n",
        "from tensorflow.keras.models import Sequential\n",
        "from tensorflow.keras.optimizers import Adam\n",
        "from tensorflow.keras import layers\n",
        "\n",
        "#Sequential means the model is made up of many sequential models\n",
        "#1st model-Input((3, 1)- 3(3 targets), 1(one variable - closing price)\n",
        "#2nd model - LSTM(64) - 64 - no of neurons\n",
        "#3rd and 4th models - Dense(32, activation='relu') - 32 - no of neurons\n",
        "#5th model - Dense(1) - output of the model, 1 - no of expected output variables - closing price\n",
        "model = Sequential([layers.Input((3, 1)),\n",
        "                    layers.LSTM(64),\n",
        "                    layers.Dense(32, activation='relu'),\n",
        "                    layers.Dense(32, activation='relu'),\n",
        "                    layers.Dense(1)])\n",
        "\n",
        "model.compile(loss='mse', \n",
        "              optimizer=Adam(learning_rate=0.002),\n",
        "              metrics=['mean_absolute_error'])\n",
        "\n",
        "model.fit(X_train, y_train, validation_data=(X_val, y_val), epochs=100)\n",
        "#The val_mean_absolute_error is the difference between the actual closing price and the model's prediction, the learning_rate=0.002 in this case creates an ideal val_mean_absolute_error "
      ],
      "metadata": {
        "colab": {
          "base_uri": "https://localhost:8080/"
        },
        "id": "PGiLbQIYOawE",
        "outputId": "104e46a2-a7ea-4586-dd63-d60eca32abb6"
      },
      "execution_count": 23,
      "outputs": [
        {
          "output_type": "stream",
          "name": "stdout",
          "text": [
            "Epoch 1/100\n",
            "7/7 [==============================] - 3s 92ms/step - loss: 91680.1328 - mean_absolute_error: 301.9453 - val_loss: 65603.6016 - val_mean_absolute_error: 256.0278\n",
            "Epoch 2/100\n",
            "7/7 [==============================] - 0s 8ms/step - loss: 91180.9141 - mean_absolute_error: 301.1178 - val_loss: 65180.6562 - val_mean_absolute_error: 255.2004\n",
            "Epoch 3/100\n",
            "7/7 [==============================] - 0s 8ms/step - loss: 90658.0469 - mean_absolute_error: 300.2445 - val_loss: 64588.3516 - val_mean_absolute_error: 254.0373\n",
            "Epoch 4/100\n",
            "7/7 [==============================] - 0s 7ms/step - loss: 89850.1328 - mean_absolute_error: 298.8960 - val_loss: 63757.1562 - val_mean_absolute_error: 252.3960\n",
            "Epoch 5/100\n",
            "7/7 [==============================] - 0s 8ms/step - loss: 88691.3047 - mean_absolute_error: 296.9530 - val_loss: 62373.9844 - val_mean_absolute_error: 249.6409\n",
            "Epoch 6/100\n",
            "7/7 [==============================] - 0s 8ms/step - loss: 86800.3828 - mean_absolute_error: 293.7645 - val_loss: 60572.6562 - val_mean_absolute_error: 246.0066\n",
            "Epoch 7/100\n",
            "7/7 [==============================] - 0s 8ms/step - loss: 84520.2891 - mean_absolute_error: 289.8459 - val_loss: 58444.9336 - val_mean_absolute_error: 241.6434\n",
            "Epoch 8/100\n",
            "7/7 [==============================] - 0s 8ms/step - loss: 81790.7188 - mean_absolute_error: 285.0998 - val_loss: 55812.6914 - val_mean_absolute_error: 236.1341\n",
            "Epoch 9/100\n",
            "7/7 [==============================] - 0s 8ms/step - loss: 78363.8047 - mean_absolute_error: 279.0247 - val_loss: 52472.4688 - val_mean_absolute_error: 228.9520\n",
            "Epoch 10/100\n",
            "7/7 [==============================] - 0s 9ms/step - loss: 73890.8203 - mean_absolute_error: 270.8871 - val_loss: 47787.8203 - val_mean_absolute_error: 218.4821\n",
            "Epoch 11/100\n",
            "7/7 [==============================] - 0s 9ms/step - loss: 67809.7969 - mean_absolute_error: 259.4286 - val_loss: 42560.7500 - val_mean_absolute_error: 206.1731\n",
            "Epoch 12/100\n",
            "7/7 [==============================] - 0s 8ms/step - loss: 61159.6094 - mean_absolute_error: 246.2122 - val_loss: 36408.2539 - val_mean_absolute_error: 190.6690\n",
            "Epoch 13/100\n",
            "7/7 [==============================] - 0s 8ms/step - loss: 52904.0938 - mean_absolute_error: 228.8562 - val_loss: 29052.6777 - val_mean_absolute_error: 170.2913\n",
            "Epoch 14/100\n",
            "7/7 [==============================] - 0s 8ms/step - loss: 43525.7031 - mean_absolute_error: 207.3006 - val_loss: 21321.5000 - val_mean_absolute_error: 145.8351\n",
            "Epoch 15/100\n",
            "7/7 [==============================] - 0s 8ms/step - loss: 33347.4180 - mean_absolute_error: 181.0566 - val_loss: 13872.4346 - val_mean_absolute_error: 117.5528\n",
            "Epoch 16/100\n",
            "7/7 [==============================] - 0s 9ms/step - loss: 23270.2109 - mean_absolute_error: 150.7580 - val_loss: 7267.6704 - val_mean_absolute_error: 84.9370\n",
            "Epoch 17/100\n",
            "7/7 [==============================] - 0s 8ms/step - loss: 14476.2734 - mean_absolute_error: 118.0499 - val_loss: 2743.1951 - val_mean_absolute_error: 51.8629\n",
            "Epoch 18/100\n",
            "7/7 [==============================] - 0s 8ms/step - loss: 7755.1382 - mean_absolute_error: 84.5889 - val_loss: 377.9550 - val_mean_absolute_error: 18.0142\n",
            "Epoch 19/100\n",
            "7/7 [==============================] - 0s 8ms/step - loss: 3218.8279 - mean_absolute_error: 51.4113 - val_loss: 248.1109 - val_mean_absolute_error: 13.9357\n",
            "Epoch 20/100\n",
            "7/7 [==============================] - 0s 8ms/step - loss: 948.7841 - mean_absolute_error: 25.3524 - val_loss: 1612.7894 - val_mean_absolute_error: 39.4893\n",
            "Epoch 21/100\n",
            "7/7 [==============================] - 0s 8ms/step - loss: 510.0929 - mean_absolute_error: 18.1598 - val_loss: 2896.8306 - val_mean_absolute_error: 53.3240\n",
            "Epoch 22/100\n",
            "7/7 [==============================] - 0s 8ms/step - loss: 615.3647 - mean_absolute_error: 20.8319 - val_loss: 3410.6250 - val_mean_absolute_error: 57.9417\n",
            "Epoch 23/100\n",
            "7/7 [==============================] - 0s 8ms/step - loss: 659.1025 - mean_absolute_error: 21.6863 - val_loss: 3205.6943 - val_mean_absolute_error: 56.1454\n",
            "Epoch 24/100\n",
            "7/7 [==============================] - 0s 8ms/step - loss: 598.5616 - mean_absolute_error: 20.4356 - val_loss: 2736.9031 - val_mean_absolute_error: 51.8027\n",
            "Epoch 25/100\n",
            "7/7 [==============================] - 0s 8ms/step - loss: 529.5767 - mean_absolute_error: 18.9264 - val_loss: 2307.6475 - val_mean_absolute_error: 47.4791\n",
            "Epoch 26/100\n",
            "7/7 [==============================] - 0s 10ms/step - loss: 510.5128 - mean_absolute_error: 18.1009 - val_loss: 2037.6123 - val_mean_absolute_error: 44.5447\n",
            "Epoch 27/100\n",
            "7/7 [==============================] - 0s 8ms/step - loss: 511.9274 - mean_absolute_error: 17.8492 - val_loss: 1886.3962 - val_mean_absolute_error: 42.8178\n",
            "Epoch 28/100\n",
            "7/7 [==============================] - 0s 8ms/step - loss: 516.6903 - mean_absolute_error: 17.9296 - val_loss: 1931.5836 - val_mean_absolute_error: 43.3383\n",
            "Epoch 29/100\n",
            "7/7 [==============================] - 0s 8ms/step - loss: 513.6437 - mean_absolute_error: 17.9242 - val_loss: 2037.5571 - val_mean_absolute_error: 44.5441\n",
            "Epoch 30/100\n",
            "7/7 [==============================] - 0s 9ms/step - loss: 510.2689 - mean_absolute_error: 17.9748 - val_loss: 2122.4172 - val_mean_absolute_error: 45.4866\n",
            "Epoch 31/100\n",
            "7/7 [==============================] - 0s 8ms/step - loss: 509.5153 - mean_absolute_error: 18.0163 - val_loss: 2114.9966 - val_mean_absolute_error: 45.4050\n",
            "Epoch 32/100\n",
            "7/7 [==============================] - 0s 8ms/step - loss: 510.2652 - mean_absolute_error: 17.9813 - val_loss: 2036.7100 - val_mean_absolute_error: 44.5346\n",
            "Epoch 33/100\n",
            "7/7 [==============================] - 0s 8ms/step - loss: 510.2322 - mean_absolute_error: 17.9237 - val_loss: 2029.1166 - val_mean_absolute_error: 44.4492\n",
            "Epoch 34/100\n",
            "7/7 [==============================] - 0s 8ms/step - loss: 510.6093 - mean_absolute_error: 17.9126 - val_loss: 2018.6697 - val_mean_absolute_error: 44.3316\n",
            "Epoch 35/100\n",
            "7/7 [==============================] - 0s 8ms/step - loss: 510.1106 - mean_absolute_error: 17.9101 - val_loss: 2057.2207 - val_mean_absolute_error: 44.7643\n",
            "Epoch 36/100\n",
            "7/7 [==============================] - 0s 8ms/step - loss: 509.6954 - mean_absolute_error: 17.9470 - val_loss: 2088.3735 - val_mean_absolute_error: 45.1109\n",
            "Epoch 37/100\n",
            "7/7 [==============================] - 0s 8ms/step - loss: 509.4170 - mean_absolute_error: 18.0107 - val_loss: 2155.2014 - val_mean_absolute_error: 45.8458\n",
            "Epoch 38/100\n",
            "7/7 [==============================] - 0s 9ms/step - loss: 506.8414 - mean_absolute_error: 18.0516 - val_loss: 1780.7145 - val_mean_absolute_error: 41.5882\n",
            "Epoch 39/100\n",
            "7/7 [==============================] - 0s 8ms/step - loss: 486.3754 - mean_absolute_error: 17.3356 - val_loss: 1909.4739 - val_mean_absolute_error: 43.1291\n",
            "Epoch 40/100\n",
            "7/7 [==============================] - 0s 8ms/step - loss: 481.6570 - mean_absolute_error: 17.5345 - val_loss: 1549.7488 - val_mean_absolute_error: 38.7379\n",
            "Epoch 41/100\n",
            "7/7 [==============================] - 0s 8ms/step - loss: 463.8429 - mean_absolute_error: 17.0305 - val_loss: 2035.5892 - val_mean_absolute_error: 44.5691\n",
            "Epoch 42/100\n",
            "7/7 [==============================] - 0s 11ms/step - loss: 474.8266 - mean_absolute_error: 17.3186 - val_loss: 1783.9309 - val_mean_absolute_error: 41.6588\n",
            "Epoch 43/100\n",
            "7/7 [==============================] - 0s 9ms/step - loss: 458.4912 - mean_absolute_error: 17.0129 - val_loss: 1854.9337 - val_mean_absolute_error: 42.5117\n",
            "Epoch 44/100\n",
            "7/7 [==============================] - 0s 10ms/step - loss: 452.1989 - mean_absolute_error: 16.9177 - val_loss: 1746.4995 - val_mean_absolute_error: 41.2136\n",
            "Epoch 45/100\n",
            "7/7 [==============================] - 0s 8ms/step - loss: 444.8083 - mean_absolute_error: 16.9575 - val_loss: 1583.7227 - val_mean_absolute_error: 39.1871\n",
            "Epoch 46/100\n",
            "7/7 [==============================] - 0s 8ms/step - loss: 435.4123 - mean_absolute_error: 16.6103 - val_loss: 2046.1528 - val_mean_absolute_error: 44.7193\n",
            "Epoch 47/100\n",
            "7/7 [==============================] - 0s 9ms/step - loss: 449.5329 - mean_absolute_error: 17.2282 - val_loss: 1650.1876 - val_mean_absolute_error: 40.0380\n",
            "Epoch 48/100\n",
            "7/7 [==============================] - 0s 8ms/step - loss: 425.5360 - mean_absolute_error: 16.4813 - val_loss: 1581.0626 - val_mean_absolute_error: 39.1795\n",
            "Epoch 49/100\n",
            "7/7 [==============================] - 0s 9ms/step - loss: 418.3347 - mean_absolute_error: 16.2789 - val_loss: 1484.2582 - val_mean_absolute_error: 37.9129\n",
            "Epoch 50/100\n",
            "7/7 [==============================] - 0s 8ms/step - loss: 412.9944 - mean_absolute_error: 16.0161 - val_loss: 1946.1802 - val_mean_absolute_error: 43.6139\n",
            "Epoch 51/100\n",
            "7/7 [==============================] - 0s 8ms/step - loss: 416.9028 - mean_absolute_error: 16.3782 - val_loss: 1543.5900 - val_mean_absolute_error: 38.7213\n",
            "Epoch 52/100\n",
            "7/7 [==============================] - 0s 8ms/step - loss: 399.6575 - mean_absolute_error: 15.8411 - val_loss: 1659.5586 - val_mean_absolute_error: 40.2014\n",
            "Epoch 53/100\n",
            "7/7 [==============================] - 0s 9ms/step - loss: 404.4530 - mean_absolute_error: 16.0220 - val_loss: 1685.3250 - val_mean_absolute_error: 40.5238\n",
            "Epoch 54/100\n",
            "7/7 [==============================] - 0s 8ms/step - loss: 385.0495 - mean_absolute_error: 15.6562 - val_loss: 1427.0210 - val_mean_absolute_error: 37.1999\n",
            "Epoch 55/100\n",
            "7/7 [==============================] - 0s 8ms/step - loss: 393.3147 - mean_absolute_error: 15.6232 - val_loss: 1680.5950 - val_mean_absolute_error: 40.4956\n",
            "Epoch 56/100\n",
            "7/7 [==============================] - 0s 8ms/step - loss: 397.3350 - mean_absolute_error: 16.3481 - val_loss: 981.5828 - val_mean_absolute_error: 30.6479\n",
            "Epoch 57/100\n",
            "7/7 [==============================] - 0s 10ms/step - loss: 391.0308 - mean_absolute_error: 15.7264 - val_loss: 1117.1757 - val_mean_absolute_error: 32.8763\n",
            "Epoch 58/100\n",
            "7/7 [==============================] - 0s 8ms/step - loss: 349.8239 - mean_absolute_error: 14.7767 - val_loss: 1445.0121 - val_mean_absolute_error: 37.5411\n",
            "Epoch 59/100\n",
            "7/7 [==============================] - 0s 9ms/step - loss: 321.9860 - mean_absolute_error: 14.2120 - val_loss: 1132.5250 - val_mean_absolute_error: 33.1002\n",
            "Epoch 60/100\n",
            "7/7 [==============================] - 0s 8ms/step - loss: 285.0591 - mean_absolute_error: 13.5499 - val_loss: 606.4622 - val_mean_absolute_error: 23.8029\n",
            "Epoch 61/100\n",
            "7/7 [==============================] - 0s 8ms/step - loss: 269.7069 - mean_absolute_error: 13.1679 - val_loss: 1062.8590 - val_mean_absolute_error: 32.0428\n",
            "Epoch 62/100\n",
            "7/7 [==============================] - 0s 9ms/step - loss: 243.0302 - mean_absolute_error: 12.5937 - val_loss: 588.2422 - val_mean_absolute_error: 23.5412\n",
            "Epoch 63/100\n",
            "7/7 [==============================] - 0s 8ms/step - loss: 219.6216 - mean_absolute_error: 11.9334 - val_loss: 337.3492 - val_mean_absolute_error: 17.4622\n",
            "Epoch 64/100\n",
            "7/7 [==============================] - 0s 8ms/step - loss: 163.6501 - mean_absolute_error: 10.2368 - val_loss: 234.3511 - val_mean_absolute_error: 14.2685\n",
            "Epoch 65/100\n",
            "7/7 [==============================] - 0s 9ms/step - loss: 118.7394 - mean_absolute_error: 8.5515 - val_loss: 115.0937 - val_mean_absolute_error: 9.2650\n",
            "Epoch 66/100\n",
            "7/7 [==============================] - 0s 8ms/step - loss: 108.4972 - mean_absolute_error: 8.4128 - val_loss: 162.3807 - val_mean_absolute_error: 11.3086\n",
            "Epoch 67/100\n",
            "7/7 [==============================] - 0s 8ms/step - loss: 86.6472 - mean_absolute_error: 7.3277 - val_loss: 50.6319 - val_mean_absolute_error: 5.3077\n",
            "Epoch 68/100\n",
            "7/7 [==============================] - 0s 8ms/step - loss: 68.7854 - mean_absolute_error: 6.8089 - val_loss: 57.1856 - val_mean_absolute_error: 5.6693\n",
            "Epoch 69/100\n",
            "7/7 [==============================] - 0s 8ms/step - loss: 71.3438 - mean_absolute_error: 6.9924 - val_loss: 40.8800 - val_mean_absolute_error: 4.6966\n",
            "Epoch 70/100\n",
            "7/7 [==============================] - 0s 9ms/step - loss: 51.6572 - mean_absolute_error: 5.9335 - val_loss: 40.1249 - val_mean_absolute_error: 4.7608\n",
            "Epoch 71/100\n",
            "7/7 [==============================] - 0s 10ms/step - loss: 51.2078 - mean_absolute_error: 5.8841 - val_loss: 76.0302 - val_mean_absolute_error: 6.8142\n",
            "Epoch 72/100\n",
            "7/7 [==============================] - 0s 9ms/step - loss: 54.4036 - mean_absolute_error: 6.0247 - val_loss: 39.4181 - val_mean_absolute_error: 4.6511\n",
            "Epoch 73/100\n",
            "7/7 [==============================] - 0s 9ms/step - loss: 39.1810 - mean_absolute_error: 5.1470 - val_loss: 35.7521 - val_mean_absolute_error: 4.7228\n",
            "Epoch 74/100\n",
            "7/7 [==============================] - 0s 9ms/step - loss: 41.5848 - mean_absolute_error: 5.2176 - val_loss: 61.6330 - val_mean_absolute_error: 5.9185\n",
            "Epoch 75/100\n",
            "7/7 [==============================] - 0s 9ms/step - loss: 44.3132 - mean_absolute_error: 5.2568 - val_loss: 93.6399 - val_mean_absolute_error: 8.6374\n",
            "Epoch 76/100\n",
            "7/7 [==============================] - 0s 9ms/step - loss: 77.7573 - mean_absolute_error: 7.3065 - val_loss: 46.7528 - val_mean_absolute_error: 5.0601\n",
            "Epoch 77/100\n",
            "7/7 [==============================] - 0s 9ms/step - loss: 39.6422 - mean_absolute_error: 5.0241 - val_loss: 43.3922 - val_mean_absolute_error: 4.8723\n",
            "Epoch 78/100\n",
            "7/7 [==============================] - 0s 8ms/step - loss: 42.1893 - mean_absolute_error: 5.3457 - val_loss: 43.1739 - val_mean_absolute_error: 4.8572\n",
            "Epoch 79/100\n",
            "7/7 [==============================] - 0s 8ms/step - loss: 41.0542 - mean_absolute_error: 5.1319 - val_loss: 41.8914 - val_mean_absolute_error: 5.5418\n",
            "Epoch 80/100\n",
            "7/7 [==============================] - 0s 8ms/step - loss: 73.4473 - mean_absolute_error: 7.1447 - val_loss: 50.8647 - val_mean_absolute_error: 5.3022\n",
            "Epoch 81/100\n",
            "7/7 [==============================] - 0s 8ms/step - loss: 48.8669 - mean_absolute_error: 5.5147 - val_loss: 34.7123 - val_mean_absolute_error: 4.4409\n",
            "Epoch 82/100\n",
            "7/7 [==============================] - 0s 8ms/step - loss: 36.5448 - mean_absolute_error: 4.9648 - val_loss: 45.6268 - val_mean_absolute_error: 5.0014\n",
            "Epoch 83/100\n",
            "7/7 [==============================] - 0s 9ms/step - loss: 34.2607 - mean_absolute_error: 4.7513 - val_loss: 34.8045 - val_mean_absolute_error: 4.4876\n",
            "Epoch 84/100\n",
            "7/7 [==============================] - 0s 9ms/step - loss: 45.6848 - mean_absolute_error: 5.4920 - val_loss: 34.2319 - val_mean_absolute_error: 4.5749\n",
            "Epoch 85/100\n",
            "7/7 [==============================] - 0s 8ms/step - loss: 43.4367 - mean_absolute_error: 5.3479 - val_loss: 44.1112 - val_mean_absolute_error: 4.9114\n",
            "Epoch 86/100\n",
            "7/7 [==============================] - 0s 9ms/step - loss: 39.2799 - mean_absolute_error: 5.0351 - val_loss: 33.1816 - val_mean_absolute_error: 4.6307\n",
            "Epoch 87/100\n",
            "7/7 [==============================] - 0s 10ms/step - loss: 40.9894 - mean_absolute_error: 5.2461 - val_loss: 40.3464 - val_mean_absolute_error: 4.6822\n",
            "Epoch 88/100\n",
            "7/7 [==============================] - 0s 8ms/step - loss: 44.8953 - mean_absolute_error: 5.4613 - val_loss: 210.1770 - val_mean_absolute_error: 13.1941\n",
            "Epoch 89/100\n",
            "7/7 [==============================] - 0s 9ms/step - loss: 98.1538 - mean_absolute_error: 8.2112 - val_loss: 143.6041 - val_mean_absolute_error: 10.5591\n",
            "Epoch 90/100\n",
            "7/7 [==============================] - 0s 8ms/step - loss: 56.3517 - mean_absolute_error: 6.0853 - val_loss: 81.3241 - val_mean_absolute_error: 7.3582\n",
            "Epoch 91/100\n",
            "7/7 [==============================] - 0s 9ms/step - loss: 36.3241 - mean_absolute_error: 5.0130 - val_loss: 64.5837 - val_mean_absolute_error: 6.0738\n",
            "Epoch 92/100\n",
            "7/7 [==============================] - 0s 9ms/step - loss: 40.8400 - mean_absolute_error: 5.0704 - val_loss: 32.6745 - val_mean_absolute_error: 4.5178\n",
            "Epoch 93/100\n",
            "7/7 [==============================] - 0s 8ms/step - loss: 38.1831 - mean_absolute_error: 4.9710 - val_loss: 48.3512 - val_mean_absolute_error: 5.1715\n",
            "Epoch 94/100\n",
            "7/7 [==============================] - 0s 8ms/step - loss: 38.1260 - mean_absolute_error: 5.0840 - val_loss: 38.6982 - val_mean_absolute_error: 4.6310\n",
            "Epoch 95/100\n",
            "7/7 [==============================] - 0s 8ms/step - loss: 34.3519 - mean_absolute_error: 4.7025 - val_loss: 39.8993 - val_mean_absolute_error: 4.6680\n",
            "Epoch 96/100\n",
            "7/7 [==============================] - 0s 8ms/step - loss: 33.9426 - mean_absolute_error: 4.7360 - val_loss: 32.8436 - val_mean_absolute_error: 4.4328\n",
            "Epoch 97/100\n",
            "7/7 [==============================] - 0s 9ms/step - loss: 32.9232 - mean_absolute_error: 4.5851 - val_loss: 32.6336 - val_mean_absolute_error: 4.4492\n",
            "Epoch 98/100\n",
            "7/7 [==============================] - 0s 9ms/step - loss: 32.0755 - mean_absolute_error: 4.5401 - val_loss: 44.2532 - val_mean_absolute_error: 4.9259\n",
            "Epoch 99/100\n",
            "7/7 [==============================] - 0s 8ms/step - loss: 39.4738 - mean_absolute_error: 4.9635 - val_loss: 33.3911 - val_mean_absolute_error: 4.4223\n",
            "Epoch 100/100\n",
            "7/7 [==============================] - 0s 8ms/step - loss: 35.6352 - mean_absolute_error: 4.8218 - val_loss: 31.8809 - val_mean_absolute_error: 4.4951\n"
          ]
        },
        {
          "output_type": "execute_result",
          "data": {
            "text/plain": [
              "<keras.callbacks.History at 0x7f4684e61f90>"
            ]
          },
          "metadata": {},
          "execution_count": 23
        }
      ]
    },
    {
      "cell_type": "code",
      "source": [
        "train_predictions = model.predict(X_train).flatten()\n",
        "\n",
        "plt.plot(dates_train, train_predictions)\n",
        "plt.plot(dates_train, y_train)\n",
        "plt.legend(['Training Predictions', 'Training Observations'])"
      ],
      "metadata": {
        "colab": {
          "base_uri": "https://localhost:8080/",
          "height": 282
        },
        "id": "gG8eOTzEVl_X",
        "outputId": "b824fd6c-7c7d-4633-88bc-f52919c0b822"
      },
      "execution_count": 24,
      "outputs": [
        {
          "output_type": "execute_result",
          "data": {
            "text/plain": [
              "<matplotlib.legend.Legend at 0x7f46823f07d0>"
            ]
          },
          "metadata": {},
          "execution_count": 24
        },
        {
          "output_type": "display_data",
          "data": {
            "text/plain": [
              "<Figure size 432x288 with 1 Axes>"
            ],
            "image/png": "[encoded data removed]"
          },
          "metadata": {
            "needs_background": "light"
          }
        }
      ]
    },
    {
      "cell_type": "code",
      "source": [
        "val_predictions = model.predict(X_val).flatten()\n",
        "\n",
        "plt.plot(dates_val, val_predictions)\n",
        "plt.plot(dates_val, y_val)\n",
        "plt.legend(['Validation Predictions', 'Validation Observations'])"
      ],
      "metadata": {
        "colab": {
          "base_uri": "https://localhost:8080/",
          "height": 282
        },
        "id": "UrRaAUbnWBhE",
        "outputId": "643afd45-a44f-4e6a-aecb-c7f86638a279"
      },
      "execution_count": 25,
      "outputs": [
        {
          "output_type": "execute_result",
          "data": {
            "text/plain": [
              "<matplotlib.legend.Legend at 0x7f4684f8f510>"
            ]
          },
          "metadata": {},
          "execution_count": 25
        },
        {
          "output_type": "display_data",
          "data": {
            "text/plain": [
              "<Figure size 432x288 with 1 Axes>"
            ],
            "image/png": "[encoded data removed]"
          },
          "metadata": {
            "needs_background": "light"
          }
        }
      ]
    },
    {
      "cell_type": "code",
      "source": [
        "test_predictions = model.predict(X_test).flatten()\n",
        "\n",
        "plt.plot(dates_test, test_predictions)\n",
        "plt.plot(dates_test, y_test)\n",
        "plt.legend(['Testing Predictions', 'Testing Observations'])"
      ],
      "metadata": {
        "colab": {
          "base_uri": "https://localhost:8080/",
          "height": 282
        },
        "id": "wF5sDSxVWLFd",
        "outputId": "34f93337-d68a-4b42-8f0d-0663796ec6e5"
      },
      "execution_count": 26,
      "outputs": [
        {
          "output_type": "execute_result",
          "data": {
            "text/plain": [
              "<matplotlib.legend.Legend at 0x7f468386c6d0>"
            ]
          },
          "metadata": {},
          "execution_count": 26
        },
        {
          "output_type": "display_data",
          "data": {
            "text/plain": [
              "<Figure size 432x288 with 1 Axes>"
            ],
            "image/png": "[encoded data removed]"
          },
          "metadata": {
            "needs_background": "light"
          }
        }
      ]
    },
    {
      "cell_type": "code",
      "source": [
        "plt.plot(dates_train, train_predictions)\n",
        "plt.plot(dates_train, y_train)\n",
        "plt.plot(dates_val, val_predictions)\n",
        "plt.plot(dates_val, y_val)\n",
        "plt.plot(dates_test, test_predictions)\n",
        "plt.plot(dates_test, y_test)\n",
        "plt.legend(['Training Predictions', \n",
        "            'Training Observations',\n",
        "            'Validation Predictions', \n",
        "            'Validation Observations',\n",
        "            'Testing Predictions', \n",
        "            'Testing Observations'])"
      ],
      "metadata": {
        "colab": {
          "base_uri": "https://localhost:8080/",
          "height": 282
        },
        "id": "8b-JsTvEWfAm",
        "outputId": "fb9b6f2c-a1d2-47b2-a849-6d8c5cc4f15f"
      },
      "execution_count": 27,
      "outputs": [
        {
          "output_type": "execute_result",
          "data": {
            "text/plain": [
              "<matplotlib.legend.Legend at 0x7f46838e4f50>"
            ]
          },
          "metadata": {},
          "execution_count": 27
        },
        {
          "output_type": "display_data",
          "data": {
            "text/plain": [
              "<Figure size 432x288 with 1 Axes>"
            ],
            "image/png": "[encoded data removed]"
          },
          "metadata": {
            "needs_background": "light"
          }
        }
      ]
    },
    {
      "cell_type": "code",
      "source": [
        "#Long-term prediction - 1\n",
        "from copy import deepcopy\n",
        "\n",
        "recursive_predictions = []\n",
        "#Predict tor dates between validation and test dates\n",
        "recursive_dates = np.concatenate([dates_val, dates_test])\n",
        "\n",
        "for target_date in recursive_dates:\n",
        "  last_window = deepcopy(X_train[-1])  \n",
        "  #predict next day closing price\n",
        "  next_prediction = model.predict(np.array([last_window])).flatten()\n",
        "  #Add to list\n",
        "  recursive_predictions.append(next_prediction)\n",
        "  #Update last_window\n",
        "  last_window[-1] = next_prediction\n",
        "\n"
      ],
      "metadata": {
        "id": "ZaLZabUroVEB"
      },
      "execution_count": 32,
      "outputs": []
    },
    {
      "cell_type": "code",
      "source": [
        "plt.plot(dates_train, train_predictions)\n",
        "plt.plot(dates_train, y_train)\n",
        "plt.plot(dates_val, val_predictions)\n",
        "plt.plot(dates_val, y_val)\n",
        "plt.plot(dates_test, test_predictions)\n",
        "plt.plot(dates_test, y_test)\n",
        "plt.plot(recursive_dates, recursive_predictions)\n",
        "plt.legend(['Training Predictions', \n",
        "            'Training Observations',\n",
        "            'Validation Predictions', \n",
        "            'Validation Observations',\n",
        "            'Testing Predictions', \n",
        "            'Testing Observations',\n",
        "            'Recursive Predictions'])"
      ],
      "metadata": {
        "colab": {
          "base_uri": "https://localhost:8080/",
          "height": 282
        },
        "id": "GfUSPWUromvy",
        "outputId": "e4ade726-ef70-4ebe-c807-e0c3cea71aa0"
      },
      "execution_count": 33,
      "outputs": [
        {
          "output_type": "execute_result",
          "data": {
            "text/plain": [
              "<matplotlib.legend.Legend at 0x7f467f7c64d0>"
            ]
          },
          "metadata": {},
          "execution_count": 33
        },
        {
          "output_type": "display_data",
          "data": {
            "text/plain": [
              "<Figure size 432x288 with 1 Axes>"
            ],
            "image/png": "[encoded data removed]"
          },
          "metadata": {
            "needs_background": "light"
          }
        }
      ]
    },
    {
      "cell_type": "code",
      "source": [
        "#Long-term prediction -2\n",
        "from copy import deepcopy\n",
        "\n",
        "recursive_predictions = []\n",
        "recursive_dates = dates_test[-14:]\n",
        "last_window  = X_test[-14]\n",
        "\n",
        "for target_date in recursive_dates:\n",
        "    print(last_window)\n",
        "    next_prediction = model.predict(np.array([last_window])).flatten()\n",
        "    recursive_predictions.append(next_prediction)\n",
        "    new_window = list(last_window[1:])\n",
        "    new_window.append(next_prediction)\n",
        "    new_window = np.array(new_window)\n",
        "    last_window = new_window\n",
        "\n"
      ],
      "metadata": {
        "id": "qb0ryudqWwkf",
        "colab": {
          "base_uri": "https://localhost:8080/"
        },
        "outputId": "e94e27cd-67e0-4379-fcc5-f0a4f33e12df"
      },
      "execution_count": 30,
      "outputs": [
        {
          "output_type": "stream",
          "name": "stdout",
          "text": [
            "[[280.74]\n",
            " [278.01]\n",
            " [274.82]]\n",
            "[[278.01   ]\n",
            " [274.82   ]\n",
            " [272.35663]]\n",
            "[[274.82   ]\n",
            " [272.35663]\n",
            " [269.88257]]\n",
            "[[272.35663]\n",
            " [269.88257]\n",
            " [267.60706]]\n",
            "[[269.88257]\n",
            " [267.60706]\n",
            " [265.52023]]\n",
            "[[267.60706]\n",
            " [265.52023]\n",
            " [263.64728]]\n",
            "[[265.52023]\n",
            " [263.64728]\n",
            " [261.99347]]\n",
            "[[263.64728]\n",
            " [261.99347]\n",
            " [260.55652]]\n",
            "[[261.99347]\n",
            " [260.55652]\n",
            " [259.32574]]\n",
            "[[260.55652]\n",
            " [259.32574]\n",
            " [258.28494]]\n",
            "[[259.32574]\n",
            " [258.28494]\n",
            " [257.41455]]\n",
            "[[258.28494]\n",
            " [257.41455]\n",
            " [256.69342]]\n",
            "[[257.41455]\n",
            " [256.69342]\n",
            " [256.10077]]\n",
            "[[256.69342]\n",
            " [256.10077]\n",
            " [255.6169 ]]\n"
          ]
        }
      ]
    },
    {
      "cell_type": "code",
      "source": [
        "plt.plot(dates_train, train_predictions)\n",
        "plt.plot(dates_train, y_train)\n",
        "plt.plot(dates_val, val_predictions)\n",
        "plt.plot(dates_val, y_val)\n",
        "plt.plot(dates_test, test_predictions)\n",
        "plt.plot(dates_test, y_test)\n",
        "plt.plot(recursive_dates, recursive_predictions)\n",
        "plt.legend(['Training Predictions', \n",
        "            'Training Observations',\n",
        "            'Validation Predictions', \n",
        "            'Validation Observations',\n",
        "            'Testing Predictions', \n",
        "            'Testing Observations',\n",
        "            'Recursive Predictions'])"
      ],
      "metadata": {
        "colab": {
          "base_uri": "https://localhost:8080/",
          "height": 282
        },
        "id": "6BEMkYmtbwkg",
        "outputId": "5bbded6f-0b80-4ef9-ce6c-c80eb6eac833"
      },
      "execution_count": 31,
      "outputs": [
        {
          "output_type": "execute_result",
          "data": {
            "text/plain": [
              "<matplotlib.legend.Legend at 0x7f46821050d0>"
            ]
          },
          "metadata": {},
          "execution_count": 31
        },
        {
          "output_type": "display_data",
          "data": {
            "text/plain": [
              "<Figure size 432x288 with 1 Axes>"
            ],
            "image/png": "[encoded data removed]"
          },
          "metadata": {
            "needs_background": "light"
          }
        }
      ]
    },
    {
      "cell_type": "code",
      "source": [
        ""
      ],
      "metadata": {
        "id": "zhWT0Pd-b4ab"
      },
      "execution_count": null,
      "outputs": []
    }
  ]
}